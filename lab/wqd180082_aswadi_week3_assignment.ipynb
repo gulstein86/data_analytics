{
 "cells": [
  {
   "cell_type": "code",
   "execution_count": 11,
   "metadata": {},
   "outputs": [
    {
     "name": "stdout",
     "output_type": "stream",
     "text": [
      "You can have data without information, but you cannot have information without data. ~ Daniel Keys Moran,  science fiction writer\n",
      "Daniel Keys Moran\n",
      "science fiction writer\n",
      "You can have data without information, but you cannot have information without data.\n"
     ]
    }
   ],
   "source": [
    "data_vs_info = \"You can have data without information, but you cannot have information without data. \\\n",
    "~ Daniel Keys Moran,  science fiction writer\"\n",
    "\n",
    "print(data_vs_info) # Note what \\ does.\n",
    "# print((len(data_vs_info)))\n",
    "# print((data_vs_info.find('strings')))\n",
    "# print((data_vs_info.index('strings')))\n",
    "\n",
    "# Slice the name of the author\n",
    "start='~ '\n",
    "end=',  s'\n",
    "print(data_vs_info[data_vs_info.find(start)+len(start):data_vs_info.find(end)])\n",
    "\n",
    "# Slice the profession.  \n",
    "start='n,  '\n",
    "print(data_vs_info[data_vs_info.find(start)+len(start):])\n",
    "\n",
    "# Slice the quote only\n",
    "end=' ~ Daniel'\n",
    "print(data_vs_info[:data_vs_info.find(end)])"
   ]
  },
  {
   "cell_type": "code",
   "execution_count": null,
   "metadata": {},
   "outputs": [],
   "source": []
  }
 ],
 "metadata": {
  "kernelspec": {
   "display_name": "Python 3",
   "language": "python",
   "name": "python3"
  },
  "language_info": {
   "codemirror_mode": {
    "name": "ipython",
    "version": 3
   },
   "file_extension": ".py",
   "mimetype": "text/x-python",
   "name": "python",
   "nbconvert_exporter": "python",
   "pygments_lexer": "ipython3",
   "version": "3.7.4"
  }
 },
 "nbformat": 4,
 "nbformat_minor": 2
}
