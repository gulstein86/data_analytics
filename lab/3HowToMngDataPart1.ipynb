{
 "cells": [
  {
   "cell_type": "markdown",
   "metadata": {},
   "source": [
    "# How to manage data (Part 1)"
   ]
  },
  {
   "cell_type": "markdown",
   "metadata": {},
   "source": [
    "## List \n",
    "\n",
    "Well done so far! This is your introduction to structured data.\n",
    "\n",
    "Today, we're going to introduce the list data type, and\n",
    "lists are much more powerful than strings, so whereas for a string, all of the elements had to be characters, in a list, the elements can be anything we want. They could be characters. They could be strings. They could be numbers. They could also be other lists.\n",
    "\n",
    "Like a string, a **list** is a sequence of values. In a string, the values are characters; in a list, they can be any type. The values in list are called **elements** or sometimes **items**.\n",
    "\n",
    "List elements are written within square brackets [ ]. Square brackets [ ] access data, with the first element at index 0.  Many of the operations defined above for strings also apply to lists. So it can be convenient to think of a string simply as a list of characters."
   ]
  },
  {
   "cell_type": "code",
   "execution_count": 1,
   "metadata": {},
   "outputs": [
    {
     "name": "stdout",
     "output_type": "stream",
     "text": [
      "red\n",
      "blue\n",
      "green\n",
      "\n",
      "True\n",
      "False\n",
      "\n",
      "7\n",
      "\n",
      "\n"
     ]
    }
   ],
   "source": [
    "colors = ['red', 'blue', 'green']\n",
    "print(colors[0])\n",
    "print(colors[1])\n",
    "print(colors[2])\n",
    "print(\"\")\n",
    "\n",
    "print('red' in colors)\n",
    "print('black' in colors)\n",
    "print(\"\")\n",
    "\n",
    "numbers = [5, 4, 3, 2, 1, 'hello', 2.3]\n",
    "print(len(numbers))\n",
    "\n",
    "print()\n",
    "list_of_lists = [[1,2,3],[4,5,6],[7,8,9]]\n",
    "print()\n",
    "\n",
    "\n",
    "# Empty list\n",
    "c = []"
   ]
  },
  {
   "cell_type": "code",
   "execution_count": 2,
   "metadata": {},
   "outputs": [
    {
     "name": "stdout",
     "output_type": "stream",
     "text": [
      "[1, 2, 3, 5, 6, 0]\n",
      "[4, 5]\n"
     ]
    }
   ],
   "source": [
    "# Assignment with an = on lists does not make a copy. \n",
    "# Instead, assignment makes the two variables \n",
    "# point to the one list in memory.\n",
    "b = a = [1,2,3,5,6]\n",
    "a.append(0)\n",
    "a = [4,5]\n",
    "print(b)\n",
    "print(a)\n",
    "\n",
    "# Note: The above is true for all objects in Python, not only lists.\n",
    "# (We'll talk more about objects later)\n"
   ]
  },
  {
   "cell_type": "markdown",
   "metadata": {},
   "source": [
    "## Exercise 1: "
   ]
  },
  {
   "cell_type": "code",
   "execution_count": 11,
   "metadata": {},
   "outputs": [
    {
     "data": {
      "text/plain": [
       "31"
      ]
     },
     "execution_count": 11,
     "metadata": {},
     "output_type": "execute_result"
    }
   ],
   "source": [
    "\n",
    "months = [\"January\", \"February\", \"March\", \"April\", \"May\", \"June\", \"July\",\\\n",
    "          \"August\", \"September\", \"October\", \"November\", \"December\"]\n",
    "days = [31,28,31,30,31,30,31,31,30,31,30,31]\n",
    "\n",
    "# Define a function that inputs a string with the month and returns the number \n",
    "# of days in that month.\n",
    "\n",
    "def month_day(month):\n",
    "#     ##code here##\n",
    "    return days[months.index(month)]\n",
    "        \n",
    "\n",
    "month_day('June')\n",
    "month_day('July')\n",
    "month_day('December')"
   ]
  },
  {
   "cell_type": "markdown",
   "metadata": {},
   "source": [
    "## Exercise 2:"
   ]
  },
  {
   "cell_type": "code",
   "execution_count": 25,
   "metadata": {},
   "outputs": [
    {
     "name": "stdout",
     "output_type": "stream",
     "text": [
      "China is 47 larger than Malaysia\n",
      "India is 42 larger than Malaysia\n",
      "United States is 11 larger than Malaysia\n",
      "Malaysia is 1 larger than Malaysia\n"
     ]
    }
   ],
   "source": [
    "# Nested Lists Example, let's use population (thousands). \n",
    "countries = [['China','Beijing', 1350],\n",
    "             ['India','Delhi',1210],\n",
    "             ['United States','Washington DC', 309],\n",
    "             ['Malaysia','Kuala Lumpur',29]]\n",
    "\n",
    "# How many times bigger is the population of \n",
    "# China, India, and the US relative to Malaysia?\n",
    "\n",
    "malaysia_pop=countries[3][2]\n",
    "for m in countries:\n",
    "    print('{} is {:1.0f} larger than Malaysia'.format(m[0],m[2]/malaysia_pop))\n",
    "\n"
   ]
  },
  {
   "cell_type": "markdown",
   "metadata": {},
   "source": [
    "## Mutation"
   ]
  },
  {
   "cell_type": "code",
   "execution_count": 29,
   "metadata": {},
   "outputs": [
    {
     "name": "stdout",
     "output_type": "stream",
     "text": [
      "Hello!\n",
      "Hello\n",
      "H\n"
     ]
    },
    {
     "ename": "TypeError",
     "evalue": "'str' object does not support item assignment",
     "output_type": "error",
     "traceback": [
      "\u001b[1;31m---------------------------------------------------------------------------\u001b[0m",
      "\u001b[1;31mTypeError\u001b[0m                                 Traceback (most recent call last)",
      "\u001b[1;32m<ipython-input-29-14366011bed4>\u001b[0m in \u001b[0;36m<module>\u001b[1;34m\u001b[0m\n\u001b[0;32m      7\u001b[0m \u001b[1;33m\u001b[0m\u001b[0m\n\u001b[0;32m      8\u001b[0m \u001b[1;31m#String is immutable\u001b[0m\u001b[1;33m\u001b[0m\u001b[1;33m\u001b[0m\u001b[1;33m\u001b[0m\u001b[0m\n\u001b[1;32m----> 9\u001b[1;33m \u001b[0ms\u001b[0m\u001b[1;33m[\u001b[0m\u001b[1;36m0\u001b[0m\u001b[1;33m]\u001b[0m \u001b[1;33m=\u001b[0m \u001b[1;34m\"Y\"\u001b[0m\u001b[1;33m\u001b[0m\u001b[1;33m\u001b[0m\u001b[0m\n\u001b[0m",
      "\u001b[1;31mTypeError\u001b[0m: 'str' object does not support item assignment"
     ]
    }
   ],
   "source": [
    "# A big difference is strings can't mutate - they can't change the\n",
    "# existing object.\n",
    "s = 'Hello'\n",
    "print((s + '!'))\n",
    "print(s)\n",
    "print((s[0]))\n",
    "\n",
    "#String is immutable\n",
    "s[0] = \"Y\"\n"
   ]
  },
  {
   "cell_type": "code",
   "execution_count": 27,
   "metadata": {},
   "outputs": [
    {
     "name": "stdout",
     "output_type": "stream",
     "text": [
      "['Y', 'e', 'l', 'l', 'o']\n"
     ]
    }
   ],
   "source": [
    "# But Lists are mutable: once an object is mutable, then we\n",
    "# have to worry about other variables that might\n",
    "# refer to the same object. \n",
    "p = ['H','e','l','l','o']\n",
    "q = p\n",
    "p[0] = 'Y'\n",
    "print(q)"
   ]
  },
  {
   "cell_type": "code",
   "execution_count": 28,
   "metadata": {},
   "outputs": [
    {
     "name": "stdout",
     "output_type": "stream",
     "text": [
      "[4, 5, 6, 8, 9]\n",
      "[4, 5, 6, 8, 9, 0]\n",
      "[4, 5, 6, 8, 9, 0]\n"
     ]
    }
   ],
   "source": [
    "# Assignment with an = on lists does not make a copy. \n",
    "# Instead, assignment makes the two variables \n",
    "# point to the one list in memory.\n",
    "num = [4,5,6,8,9]\n",
    "b = num\n",
    "print (num)\n",
    "num.append(0)\n",
    "print (num)\n",
    "print (b)"
   ]
  },
  {
   "cell_type": "markdown",
   "metadata": {},
   "source": [
    "### List Methods\n",
    "\n",
    "- list.append(elem) -- adds a single element to the end of the list. Common error: does not return the new list, just modifies the original.\n",
    "- list.insert(index, elem) -- inserts the element at the given index, shifting elements to the right.\n",
    "- list.extend(list2) adds the elements in list2 to the end of the list. Using + or += on a list is similar to using extend().\n",
    "- list.index(elem) -- searches for the given element from the start of the list and returns its index. Throws a ValueError if the element does not appear (use \"in\" to check without a ValueError).\n",
    "- list.remove(elem) -- searches for the first instance of the given element and removes it (throws ValueError if not present)\n",
    "- list.sort() -- sorts the list in place (does not return it).\n",
    "- sorted(list) -- return sorted list but keeps the original order of the list\n",
    "- list.reverse() -- reverses the list in place (does not return it)\n",
    "- list.pop(index) -- removes and returns the element at the given index. Returns the rightmost element if index is omitted (roughly the opposite of append())."
   ]
  },
  {
   "cell_type": "code",
   "execution_count": 30,
   "metadata": {},
   "outputs": [
    {
     "name": "stdout",
     "output_type": "stream",
     "text": [
      "['red', 'green', 'blue']\n",
      "['red', 'green', 'blue', 'purple']\n",
      "['red', 'yellow', 'green', 'blue', 'purple']\n",
      "\n",
      "\n",
      "\n",
      "4\n",
      "['red', 'yellow', 'green', 'blue', 'purple', 'cyan']\n",
      "\n",
      "\n",
      "['blue', 'cyan', 'green', 'purple', 'red']\n",
      "\n",
      "['blue', 'cyan', 'green', 'purple', 'red']\n",
      "\n",
      "['red', 'purple', 'green', 'cyan', 'blue']\n",
      "\n",
      "['red', 'purple', 'green', 'cyan', 'blue']\n",
      "['red', 'purple', 'green', 'cyan']\n"
     ]
    }
   ],
   "source": [
    "colors = ['red', 'green', 'blue']\n",
    "print(colors)\n",
    "colors.append('purple')\n",
    "print(colors)\n",
    "colors.insert(1, 'yellow')\n",
    "print(colors)\n",
    "print()\n",
    "\n",
    "new_list = ['cyan', 'white']\n",
    "colors.extend(new_list)\n",
    "\n",
    "print() \n",
    "print()\n",
    "\n",
    "print((colors.index('purple')))\n",
    "colors.remove('white')\n",
    "print(colors)\n",
    "print()\n",
    "\n",
    "#use del \n",
    "del colors[1]\n",
    "print()\n",
    "\n",
    "colors.sort()\n",
    "print(colors)\n",
    "print()\n",
    "\n",
    "#colors.sort(reverse=True)\n",
    "\n",
    "print(colors)\n",
    "colors.reverse()\n",
    "print()\n",
    "\n",
    "#print colors.pop(1)\n",
    "\n",
    "print(colors)\n",
    "print()\n",
    "\n",
    "print((sorted(colors, reverse=True)))\n",
    "\n",
    "#pop\n",
    "colors.pop()\n",
    "print(colors)"
   ]
  },
  {
   "cell_type": "code",
   "execution_count": 31,
   "metadata": {},
   "outputs": [
    {
     "name": "stdout",
     "output_type": "stream",
     "text": [
      "['red', 'yellow', 'green', 'blue', 'purple', 'cyan']\n",
      "['blue', 'cyan', 'green', 'purple', 'red', 'yellow']\n"
     ]
    }
   ],
   "source": [
    "colors = ['red', 'yellow', 'green', 'blue', 'purple', 'cyan']\n",
    "print(colors)\n",
    "\n",
    "print((sorted(colors)))"
   ]
  },
  {
   "cell_type": "code",
   "execution_count": 32,
   "metadata": {},
   "outputs": [
    {
     "name": "stdout",
     "output_type": "stream",
     "text": [
      "False\n",
      "[1, 2, 3, 4, 5, 6]\n",
      "\n",
      "[1, 2, 3, 4, 5, 6, 7, 8]\n",
      "\n",
      "[1, 2, 3, 4, [5, 6]]\n"
     ]
    }
   ],
   "source": [
    "# If you run the following four lines of codes, what are list1 and list2?\n",
    "\n",
    "list1 = [1,2,3,4]\n",
    "list2 = [1,2,3,4]\n",
    "\n",
    "print(list1 is list2)\n",
    "\n",
    "list1 = list1 + [5, 6]\n",
    "print(list1)\n",
    "print()\n",
    "\n",
    "list1.extend([7,8])\n",
    "print(list1)\n",
    "print()\n",
    "\n",
    "list2.append([5, 6])\n",
    "print(list2)"
   ]
  },
  {
   "cell_type": "markdown",
   "metadata": {},
   "source": [
    "### List Slices\n",
    "\n",
    "Slices work on lists just as with strings, and can also be used to change sub-parts of the list."
   ]
  },
  {
   "cell_type": "code",
   "execution_count": 33,
   "metadata": {},
   "outputs": [
    {
     "name": "stdout",
     "output_type": "stream",
     "text": [
      "['BMW', 'Honda']\n",
      "['BMW', 'Honda', 'Benz', 'Isuzu', 'Volkswagen']\n",
      "['Toyota', 'BMW', 'Honda']\n"
     ]
    }
   ],
   "source": [
    "cars = ['Toyota', 'BMW', 'Honda', 'Benz', 'Isuzu', 'Volkswagen', 'Mazda']\n",
    "\n",
    "print(cars[1:3])\n",
    "print(cars[1:-1])\n",
    "print(cars[:3])"
   ]
  },
  {
   "cell_type": "code",
   "execution_count": 34,
   "metadata": {},
   "outputs": [
    {
     "name": "stdout",
     "output_type": "stream",
     "text": [
      "2400000000.0 [1, 0.5, 1] [12288.0, 0.001, 4.166666666666667e-10] [2199023255552, 10, 1.2e-08] [1125899906842624, 100, 0.007]\n"
     ]
    }
   ],
   "source": [
    "# How computers store data\n",
    "# Format: size of storage (in bits), cost ($), latency (seconds)\n",
    "processor_speed = 2.4e9\n",
    "lightbulb = [1,.50,1]\n",
    "register = [1.5*8*2**10,.001,1/processor_speed]\n",
    "ram = [2*2**40,10,12e-9]\n",
    "hard_disk = [2**50,100, 0.007]\n",
    "print(processor_speed,lightbulb,register,ram,hard_disk)"
   ]
  },
  {
   "cell_type": "markdown",
   "metadata": {},
   "source": [
    "### For & In (Or Loops on Lists)\n",
    "\n",
    "Python's *for* and *in* constructs are extremely useful, and the first use of them we'll see is with lists. The *for* construct -- for var in list -- is an easy way to look at each element in a list (or other collection)."
   ]
  },
  {
   "cell_type": "code",
   "execution_count": 35,
   "metadata": {},
   "outputs": [
    {
     "name": "stdout",
     "output_type": "stream",
     "text": [
      "1\n",
      "2\n",
      "3\n",
      "4\n",
      "5\n"
     ]
    }
   ],
   "source": [
    "# Loop through a list using while\n",
    "\n",
    "a = [1,2,3,4,5]\n",
    "i = 0\n",
    "len_a = len(a)\n",
    "while i < len_a:\n",
    "    print((a[i]))\n",
    "    i  +=1"
   ]
  },
  {
   "cell_type": "code",
   "execution_count": 36,
   "metadata": {},
   "outputs": [
    {
     "name": "stdout",
     "output_type": "stream",
     "text": [
      "1\n",
      "2\n",
      "3\n",
      "4\n",
      "7\n",
      "8\n",
      "9\n",
      "10\n"
     ]
    }
   ],
   "source": [
    "# Syntax of for and in:\n",
    "\n",
    "# for each_element in a_list:\n",
    "    #Iterate through each element\n",
    "    #and run this code on each element\n",
    "    #where  each_element refers to the item.\n",
    "\n",
    "b = [1,2,3,4,7,8,9,10]\n",
    "for items in b:\n",
    "    print(items)\n",
    "    "
   ]
  },
  {
   "cell_type": "code",
   "execution_count": 37,
   "metadata": {},
   "outputs": [
    {
     "name": "stdout",
     "output_type": "stream",
     "text": [
      "<class 'list'>\n",
      "['red', 'yellow', 'green', 'blue', 'purple', 'cyan']\n",
      "red\n",
      "Red\n",
      "\n",
      "yellow\n",
      "Yellow\n",
      "\n",
      "green\n",
      "Green\n",
      "\n",
      "blue\n",
      "Blue\n",
      "\n",
      "purple\n",
      "Purple\n",
      "\n",
      "cyan\n",
      "Cyan\n",
      "\n"
     ]
    }
   ],
   "source": [
    "print((type(colors)))\n",
    "print(colors) \n",
    "\n",
    "for color in colors:\n",
    "    print(color)\n",
    "    print((color.title()))\n",
    "    print()"
   ]
  },
  {
   "cell_type": "markdown",
   "metadata": {},
   "source": [
    "## Exercise 3: "
   ]
  },
  {
   "cell_type": "code",
   "execution_count": 38,
   "metadata": {},
   "outputs": [
    {
     "data": {
      "text/plain": [
       "55"
      ]
     },
     "execution_count": 38,
     "metadata": {},
     "output_type": "execute_result"
    }
   ],
   "source": [
    "# Define sum_list.\n",
    "\n",
    "def sum_list(your_list):\n",
    "    ## your code here ##\n",
    "    return sum(your_list)\n",
    "\n",
    "squares = [1, 4, 9, 16, 25]\n",
    "sum_list(squares)"
   ]
  },
  {
   "cell_type": "markdown",
   "metadata": {},
   "source": [
    "## Exercise 4:"
   ]
  },
  {
   "cell_type": "code",
   "execution_count": 43,
   "metadata": {},
   "outputs": [
    {
     "name": "stdout",
     "output_type": "stream",
     "text": [
      "Found!\n",
      "Not Found!\n"
     ]
    }
   ],
   "source": [
    "# Write a function to find whether a number appear in a list\n",
    "# Return \"Found!\" or \"Not found!\"\n",
    "\n",
    "def find(num, li):\n",
    "    ##your code here##\n",
    "    if num in li: return print('Found!')\n",
    "    else: return print('Not Found!')\n",
    "    \n",
    "        \n",
    "find(10, list(range(100)))\n",
    "find(250, list(range(100)))"
   ]
  },
  {
   "cell_type": "code",
   "execution_count": 44,
   "metadata": {},
   "outputs": [
    {
     "name": "stdout",
     "output_type": "stream",
     "text": [
      "Found!\n",
      "Not Found!\n"
     ]
    }
   ],
   "source": [
    "#try with longer lists\n",
    "find(999999, list(range(1000000)))\n",
    "find('ah', list(range(1000000)))"
   ]
  },
  {
   "cell_type": "markdown",
   "metadata": {},
   "source": [
    "## Exercise 5: "
   ]
  },
  {
   "cell_type": "code",
   "execution_count": 49,
   "metadata": {},
   "outputs": [
    {
     "data": {
      "text/plain": [
       "[7, 25, 27]"
      ]
     },
     "execution_count": 49,
     "metadata": {},
     "output_type": "execute_result"
    }
   ],
   "source": [
    "# Define a function that print the list of a specified list after\n",
    "# removing even numbers from it\n",
    "\n",
    "num = [7,8, 120, 25, 44, 20, 27]\n",
    "def remove_even(x):\n",
    "    ##your code here##\n",
    "    return [y for y in x if y % 2 == 1]\n",
    "\n",
    "remove_even(num)"
   ]
  },
  {
   "cell_type": "code",
   "execution_count": 50,
   "metadata": {},
   "outputs": [
    {
     "data": {
      "text/plain": [
       "{'Apple', 'Banana', 'Durian', 'Orange'}"
      ]
     },
     "execution_count": 50,
     "metadata": {},
     "output_type": "execute_result"
    }
   ],
   "source": [
    "# Define a function that gives the union of lists.\n",
    "\n",
    "a = ['Orange','Banana','Apple']\n",
    "b = ['Banana', 'Orange','Durian']\n",
    "\n",
    "def union_of_lists(seta,setb):\n",
    "    return set().union(seta,setb)\n",
    "\n",
    "union_of_lists(a,b)"
   ]
  }
 ],
 "metadata": {
  "anaconda-cloud": {},
  "kernelspec": {
   "display_name": "Python 3",
   "language": "python",
   "name": "python3"
  },
  "language_info": {
   "codemirror_mode": {
    "name": "ipython",
    "version": 3
   },
   "file_extension": ".py",
   "mimetype": "text/x-python",
   "name": "python",
   "nbconvert_exporter": "python",
   "pygments_lexer": "ipython3",
   "version": "3.7.4"
  }
 },
 "nbformat": 4,
 "nbformat_minor": 1
}
