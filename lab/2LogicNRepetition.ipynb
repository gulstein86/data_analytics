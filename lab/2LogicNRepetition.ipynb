{
 "cells": [
  {
   "cell_type": "markdown",
   "metadata": {},
   "source": [
    "# Logic and Repetition\n",
    "\n",
    "In this unit, we'll first understand what procedures are and why you might want to use them.  \n",
    "Then you'll start to write some procedures. Next, we'll learn about Python logic, or how to make comparisons.  \n",
    "\n",
    "Finally, we'll go on to repetition, and how to repeat operations in Python using while and for loops.  \n",
    "\n",
    "* [Procedural Abstraction](#Procedural-Abstraction)\n",
    "* [Computer Logic](#Python-Logic)\n",
    "* [Repetition](#Repetition)\n"
   ]
  },
  {
   "cell_type": "markdown",
   "metadata": {},
   "source": [
    "# Procedural Abstraction\n",
    "\n",
    "What is a procedure? Why might you want to abstract it?"
   ]
  },
  {
   "cell_type": "markdown",
   "metadata": {},
   "source": [
    "We use procedures because we want to stop us from doing tedious work.  \n",
    "Anything we might want to do again and again we will want to 'abstract'."
   ]
  },
  {
   "cell_type": "markdown",
   "metadata": {},
   "source": [
    "## Functions\n",
    "\n",
    "A function is a block of organized, reusable code that is used to perform a single, related action.  For example, we can use the same procedure to multiply two numbers, whatever they are.  We then specify the numbers being multiplied as arguements of the function. Many functions return a value which you can then use; they can also print something out immediately\n",
    "\n",
    "#### Syntax:"
   ]
  },
  {
   "cell_type": "code",
   "execution_count": 1,
   "metadata": {},
   "outputs": [],
   "source": [
    "def functionname( parameters ):\n",
    "    \"This is the doctring of functionname. It is good practice to put a description of what your function does here.\"\n",
    "    block_of_code\n",
    "    return [expression]"
   ]
  },
  {
   "cell_type": "code",
   "execution_count": 2,
   "metadata": {
    "scrolled": true
   },
   "outputs": [
    {
     "name": "stdout",
     "output_type": "stream",
     "text": [
      "This is the doctring of functionname. It is good practice to put a description of what your function does here.\n"
     ]
    }
   ],
   "source": [
    "print((functionname.__doc__))"
   ]
  },
  {
   "cell_type": "code",
   "execution_count": 4,
   "metadata": {},
   "outputs": [
    {
     "data": {
      "text/plain": [
       "'This is the doctring of functionname. It is good practice to put a description of what your function does here.'"
      ]
     },
     "execution_count": 4,
     "metadata": {},
     "output_type": "execute_result"
    }
   ],
   "source": [
    "functionname.__doc__"
   ]
  },
  {
   "cell_type": "code",
   "execution_count": 3,
   "metadata": {},
   "outputs": [
    {
     "name": "stdout",
     "output_type": "stream",
     "text": [
      "234\n",
      "hellohellohello\n",
      "13\n"
     ]
    }
   ],
   "source": [
    "# void: does not return\n",
    "def myPrinter(text):\n",
    "    print(text)\n",
    "    \n",
    "myPrinter(234)\n",
    "\n",
    "# has return\n",
    "def multiplyer(i, j):\n",
    "    return i*j\n",
    "\n",
    "print((multiplyer('hello', 3)))\n",
    "\n",
    "print((multiplyer(4, 3) + 1))\n",
    "\n",
    "#multiplyer() # raise error\n"
   ]
  },
  {
   "cell_type": "code",
   "execution_count": 5,
   "metadata": {},
   "outputs": [
    {
     "name": "stdout",
     "output_type": "stream",
     "text": [
      "('Name: ', 'he')\n",
      "('Age ', 22)\n",
      "('Height ', 150)\n",
      "('Weight ', 65)\n",
      "\n",
      "('Name: ', 'she')\n",
      "('Age ', 35)\n",
      "('Height ', 150)\n",
      "('Weight ', 60)\n",
      "\n"
     ]
    }
   ],
   "source": [
    "def print_info( name, age = 35, height=150, weight=60 ):\n",
    "    \"This prints a passed info into this function\"\n",
    "    print((\"Name: \", name))\n",
    "    print((\"Age \", age))\n",
    "    print((\"Height \", height))\n",
    "    print((\"Weight \", weight))\n",
    "    print()\n",
    "\n",
    "print_info('he', 22, weight=65)\n",
    "print_info('she')"
   ]
  },
  {
   "cell_type": "code",
   "execution_count": 20,
   "metadata": {},
   "outputs": [
    {
     "data": {
      "text/plain": [
       "3"
      ]
     },
     "execution_count": 20,
     "metadata": {},
     "output_type": "execute_result"
    }
   ],
   "source": [
    "test='teset'\n",
    "test.index('e',2)"
   ]
  },
  {
   "cell_type": "code",
   "execution_count": 22,
   "metadata": {},
   "outputs": [],
   "source": [
    "?str.index"
   ]
  },
  {
   "cell_type": "code",
   "execution_count": 21,
   "metadata": {},
   "outputs": [
    {
     "data": {
      "text/plain": [
       "7"
      ]
     },
     "execution_count": 21,
     "metadata": {},
     "output_type": "execute_result"
    }
   ],
   "source": [
    "# Define a procedure that finds the index of the second instance of a string in a larger string.\n",
    "def find_second(findin, whattofind):\n",
    "    i = findin.index(whattofind)\n",
    "    return findin.index(whattofind, i + 1)\n",
    "\n",
    "\n",
    "find_second('dance, dance, dance everyday', 'dance')\n",
    "# find_second('learning about data, surprisingly, requires a lot of data','data')"
   ]
  },
  {
   "cell_type": "markdown",
   "metadata": {},
   "source": [
    "# Python Logic\n",
    "Can a computer think? How does a computer think differently from how we do? We've seen how computers can represent abstract concepts.  One of those abstract concepts is logic.  We've developed programs that can use logic. \n",
    "\n",
    "A **boolean** expression is an expression that is either _true_ or _false_. The following examples use the operator ==, which compares two operands and produces True if they are equal and False otherwise.\n",
    "\n",
    "There are three logical operators: _and_, _or_, and _not_. The semantics (meaning) of these operators is similar to their meaning in English.\n",
    "\n",
    "\n",
    "#### String logic\n",
    "is\t-- object identity\t \n",
    "\n",
    "is not\t-- negated object identity\t\n",
    "\n",
    "x in s -- True if an item of s is equal to x, else False\n",
    "\n",
    "x not in s -- False if an item of s is equal to x, else True\n",
    "\n",
    "x or y -- if x is false, then y, else x\n",
    "\n",
    "x and y -- if x is false, then x, else y\n",
    "\n",
    "not x -- if x is false, then True, else False \n",
    "\n",
    "#### Arithmetic logic\n",
    "\\> -- Strictly larger than\n",
    "\n",
    "== -- Is the identity of\n",
    "\n",
    "\\>= -- Greater than or equal to \n",
    "\n",
    "\\!= -- Is not the identity of.\n"
   ]
  },
  {
   "cell_type": "code",
   "execution_count": 23,
   "metadata": {},
   "outputs": [
    {
     "name": "stdout",
     "output_type": "stream",
     "text": [
      "True\n",
      "False\n",
      "True\n",
      "False\n",
      "True\n",
      "False\n",
      "True\n",
      "False\n"
     ]
    }
   ],
   "source": [
    "print((5 > 2))\n",
    "print((2 > 5))\n",
    "print((2 is 2))\n",
    "print((2 == 3)) \n",
    "print((5 > 2 or 2 > 1))\n",
    "print((5 > 2 and 2 > 2))\n",
    "print(('s' in 'datascience'))\n",
    "print(('x' in 'datascience'))"
   ]
  },
  {
   "cell_type": "code",
   "execution_count": null,
   "metadata": {
    "collapsed": true
   },
   "outputs": [],
   "source": [
    "# Why is == equals, not = ?\n"
   ]
  },
  {
   "cell_type": "markdown",
   "metadata": {},
   "source": [
    "### Conditional Execution\n",
    "\n",
    "Python does not use { } to enclose blocks of code for if/loops/function etc. like C. Instead, Python uses the colon (:) and indentation/whitespace to group statements. "
   ]
  },
  {
   "cell_type": "markdown",
   "metadata": {},
   "source": [
    "In order to write useful programs, we almost always need the ability to check conditions and change the behavior of the program accordingly. Conditional statements give us this ability. The simplest form is the if statement:\n",
    "\n",
    "```python\n",
    "if x > 0 :\n",
    "    print 'x is positive'\n",
    "```\n",
    "    \n",
    "The boolean expression after the if statement is called the condition. We end the if statement with a colon character (:) and the line(s) after the if statement are indented.\n",
    "\n",
    "![](http://www.pythonlearn.com/html-007/cfbook005.png)\n",
    "\n",
    "If the logical condition is true, then the indented statement gets executed. If the logical condition is false, the indented statement is skipped.\n",
    "\n",
    "### Alternative execution\n",
    "\n",
    "A second form of the if statement is alternative execution, in which there are two possibilities and the condition determines which one gets executed. The syntax looks like this:\n",
    "\n",
    "```python\n",
    "if x%2 == 0 :\n",
    "    print 'x is even'\n",
    "else :\n",
    "    print 'x is odd'\n",
    "```\n",
    "\n",
    "If the remainder when x is divided by 2 is 0, then we know that x is even, and the program displays a message to that effect. If the condition is false, the second set of statements is executed. \n",
    "\n",
    "![](http://www.pythonlearn.com/html-007/cfbook006.png)\n",
    "\n",
    "Since the condition must be true or false, exactly one of the alternatives will be executed. The alternatives are called branches, because they are branches in the flow of execution.\n",
    "\n",
    "### Chained conditionals\n",
    "\n",
    "Sometimes there are more than two possibilities and we need more than two branches. One way to express a computation like that is a chained conditional:\n",
    "\n",
    "```python\n",
    "if x < y:\n",
    "    print 'x is less than y'\n",
    "elif x > y:\n",
    "    print 'x is greater than y'\n",
    "else:\n",
    "    print 'x and y are equal'\n",
    "```\n",
    "\n",
    "elif is an abbreviation of \"else if\". Again, exactly one branch will be executed.\n",
    "\n",
    "![](http://www.pythonlearn.com/html-007/cfbook007.png)\n",
    "\n",
    "There is no limit on the number of elif statements. If there is an else clause, it has to be at the end, but there doesn't have to be one.\n"
   ]
  },
  {
   "cell_type": "code",
   "execution_count": 24,
   "metadata": {},
   "outputs": [
    {
     "name": "stdout",
     "output_type": "stream",
     "text": [
      "block of code 2\n"
     ]
    }
   ],
   "source": [
    "if False:\n",
    "    print(\"block of code 1\")\n",
    "elif True:\n",
    "    print(\"block of code 2\")\n",
    "else:\n",
    "    print(\"block of code 3\")"
   ]
  },
  {
   "cell_type": "code",
   "execution_count": 1,
   "metadata": {},
   "outputs": [
    {
     "name": "stdout",
     "output_type": "stream",
     "text": [
      "License and registration please\n",
      "You have the right to remain silent.\n"
     ]
    }
   ],
   "source": [
    "speed = 105\n",
    "mood = 'bad'\n",
    "\n",
    "if speed >= 80:\n",
    "    print('License and registration please')\n",
    "    if mood == 'terrible' or speed >= 100:\n",
    "        print('You have the right to remain silent.')\n",
    "    elif mood == 'bad' or speed >= 90:\n",
    "        print(\"I'm going to have to write you a ticket.\")\n",
    "    else:\n",
    "        print(\"Let's try to keep it under 80 ok?\")"
   ]
  },
  {
   "cell_type": "code",
   "execution_count": 2,
   "metadata": {},
   "outputs": [
    {
     "name": "stdout",
     "output_type": "stream",
     "text": [
      "3\n",
      "Success!\n"
     ]
    }
   ],
   "source": [
    "string = 'Hi there' # True example\n",
    "# string = 'Good bye' # False example\n",
    "\n",
    "result = string.find('th')\n",
    "print(result)\n",
    "\n",
    "if result != -1:\n",
    "    print('Success!')\n",
    "else:\n",
    "    print('Not found!')"
   ]
  },
  {
   "cell_type": "code",
   "execution_count": null,
   "metadata": {},
   "outputs": [],
   "source": [
    "if string[0]=='B': print('yes')"
   ]
  },
  {
   "cell_type": "code",
   "execution_count": 6,
   "metadata": {},
   "outputs": [
    {
     "name": "stdout",
     "output_type": "stream",
     "text": [
      "yes\n"
     ]
    }
   ],
   "source": [
    "# Define starts_with_B('Boyce')\n",
    "def starts_with_B(string):\n",
    "#     if string.lower()[0]=='b': print('yes')\n",
    "    if string[0]=='B': print('yes')\n",
    "    else: print('no')\n",
    "        \n",
    "starts_with_B('Boyce')"
   ]
  },
  {
   "cell_type": "code",
   "execution_count": 11,
   "metadata": {},
   "outputs": [
    {
     "name": "stdout",
     "output_type": "stream",
     "text": [
      "5 is bigger than 4\n"
     ]
    }
   ],
   "source": [
    "# Define bigger(a,b)\n",
    "def bigger(a,b):\n",
    "    if a>b: print('{} is bigger than {}'.format(a,b))\n",
    "    else: print('{} is smaller than {}'.format(a,b))\n",
    "\n",
    "bigger(5,4)\n",
    "# bigger(4,5)"
   ]
  },
  {
   "cell_type": "code",
   "execution_count": 12,
   "metadata": {},
   "outputs": [],
   "source": [
    "# Nested if problem: Define a function biggest(a,b,c) which takes the largest of the three inputs and returns\n",
    "# the largest one. \n",
    "\n",
    "def biggest(a,b,c):\n",
    "    if a>b:\n",
    "        if a>c: print(a,' is the largest value!')\n",
    "        else : print(c,' is the largest value!')\n",
    "    else:\n",
    "        \n",
    "\n",
    "biggest(1,2,3)"
   ]
  },
  {
   "cell_type": "markdown",
   "metadata": {},
   "source": [
    "## Repetition\n",
    "\n",
    "### While\n",
    "\n",
    "The while loop continues iterating until it's condition stops being true:"
   ]
  },
  {
   "cell_type": "code",
   "execution_count": 13,
   "metadata": {},
   "outputs": [
    {
     "name": "stdout",
     "output_type": "stream",
     "text": [
      "1\n",
      "2\n",
      "3\n",
      "4\n",
      "5\n",
      "6\n",
      "7\n",
      "8\n",
      "9\n",
      "10\n"
     ]
    }
   ],
   "source": [
    "i = 0\n",
    "\n",
    "while i < 10:\n",
    "    i = i + 1\n",
    "    print(i) \n"
   ]
  },
  {
   "cell_type": "code",
   "execution_count": null,
   "metadata": {
    "collapsed": true
   },
   "outputs": [],
   "source": [
    "# What happens here? \n",
    "# Don't run it!\n",
    "# i = 0\n",
    "# while i != 11:\n",
    "#     i = i+2\n",
    "#     print i"
   ]
  },
  {
   "cell_type": "code",
   "execution_count": null,
   "metadata": {
    "collapsed": true
   },
   "outputs": [],
   "source": [
    "i = 0\n",
    "while True:"
   ]
  },
  {
   "cell_type": "code",
   "execution_count": null,
   "metadata": {
    "collapsed": true
   },
   "outputs": [],
   "source": [
    "# A function that prints 'Dance' 3 times using the while loop\n",
    "# Some stylistic practices\n",
    "# Some stylistic practices\n",
    "# print a string a number of times equal to the length of the string"
   ]
  },
  {
   "cell_type": "code",
   "execution_count": 20,
   "metadata": {},
   "outputs": [
    {
     "name": "stdout",
     "output_type": "stream",
     "text": [
      "Dance\n",
      "Dance\n",
      "Dance\n"
     ]
    }
   ],
   "source": [
    "def print_Dance(string):\n",
    "    i=0\n",
    "    while i <3:\n",
    "        i += 1\n",
    "        print(string)\n",
    "        \n",
    "\n",
    "print_Dance('Dance')"
   ]
  },
  {
   "cell_type": "code",
   "execution_count": 23,
   "metadata": {},
   "outputs": [
    {
     "name": "stdout",
     "output_type": "stream",
     "text": [
      "5\n"
     ]
    }
   ],
   "source": [
    "#Use the for loop to count number of items in basket\n",
    "\n",
    "basket = ['banana','apple','durian','orange','rambutan']\n",
    "\n",
    "count=0\n",
    "for x in basket:\n",
    "    count = count + 1\n",
    "\n",
    "print(count)"
   ]
  },
  {
   "cell_type": "code",
   "execution_count": 24,
   "metadata": {},
   "outputs": [
    {
     "name": "stdout",
     "output_type": "stream",
     "text": [
      "154\n"
     ]
    }
   ],
   "source": [
    "# write a for loop to sum all numbers for [3, 41, 12, 9, 74, 15]\n",
    "\n",
    "numbers = [3, 41, 12, 9, 74, 15]\n",
    "total = 0\n",
    "for x in numbers:\n",
    "    total = total + x\n",
    "\n",
    "print(total)"
   ]
  },
  {
   "cell_type": "code",
   "execution_count": null,
   "metadata": {
    "collapsed": true
   },
   "outputs": [],
   "source": [
    "# Define a function called factorial(n)"
   ]
  }
 ],
 "metadata": {
  "anaconda-cloud": {},
  "kernelspec": {
   "display_name": "Python 3",
   "language": "python",
   "name": "python3"
  },
  "language_info": {
   "codemirror_mode": {
    "name": "ipython",
    "version": 3
   },
   "file_extension": ".py",
   "mimetype": "text/x-python",
   "name": "python",
   "nbconvert_exporter": "python",
   "pygments_lexer": "ipython3",
   "version": "3.6.4"
  }
 },
 "nbformat": 4,
 "nbformat_minor": 1
}
