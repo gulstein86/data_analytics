{
 "cells": [
  {
   "cell_type": "markdown",
   "metadata": {},
   "source": [
    "# How to manage data"
   ]
  },
  {
   "cell_type": "markdown",
   "metadata": {},
   "source": [
    "### Enumerate\n",
    "\n",
    "To find out the index of the item in the loop we can use list.index(elem), but there is another way to do this using enumerate().\n"
   ]
  },
  {
   "cell_type": "code",
   "execution_count": 1,
   "metadata": {},
   "outputs": [
    {
     "name": "stdout",
     "output_type": "stream",
     "text": [
      "Index of happy is: 0\n",
      "Index of sad is: 1\n",
      "Index of angry is: 2\n",
      "0 happy\n",
      "1 sad\n",
      "2 angry\n"
     ]
    }
   ],
   "source": [
    "my_list = ['happy', 'sad', 'angry']\n",
    "\n",
    "index_counter = 0\n",
    "for entry in my_list:\n",
    "    print(\"Index of %s is: %s\" %(entry, index_counter))\n",
    "    index_counter += 1\n",
    "\n",
    "# Here we use another built-in function list([iterable]) \n",
    "# which returns a list whose items are the same and\n",
    "# in the same order as iterable‘s items).\n",
    "\n",
    "list(enumerate(my_list))\n",
    "\n",
    "for i, element in enumerate(my_list):\n",
    "    print(i, element)"
   ]
  },
  {
   "cell_type": "code",
   "execution_count": 2,
   "metadata": {},
   "outputs": [
    {
     "name": "stdout",
     "output_type": "stream",
     "text": [
      "1 ['happy', 'sad', 'angry']\n",
      "2 ['happy', 'sad', 'angry']\n",
      "3 ['happy', 'sad', 'angry']\n"
     ]
    }
   ],
   "source": [
    "# We may easily change the start count/index with help of enumerate(sequence, start=0)\n",
    "for index, item in enumerate(my_list, start = 1):\n",
    "    print(index, my_list)"
   ]
  },
  {
   "cell_type": "markdown",
   "metadata": {},
   "source": [
    "### Range\n",
    "\n",
    "The range(n) function yields the numbers 0, 1, ... n-1, and range(a, b) returns a, a+1, ... b-1 -- up to but not including the last number. "
   ]
  },
  {
   "cell_type": "code",
   "execution_count": 3,
   "metadata": {},
   "outputs": [
    {
     "name": "stdout",
     "output_type": "stream",
     "text": [
      "[100, 101, 102, 103, 104, 105, 106, 107, 108, 109]\n",
      "[0, 1, 2, 3, 4]\n",
      "0\n",
      "1\n",
      "2\n",
      "3\n",
      "4\n",
      "\n",
      "1\n",
      "4\n",
      "9\n",
      "16\n",
      "25\n",
      "1\n",
      "4\n",
      "9\n",
      "16\n",
      "25\n"
     ]
    }
   ],
   "source": [
    "square =[1,4,9,16,25]\n",
    "\n",
    "a = list(range(100, 110))\n",
    "print(a)\n",
    "\n",
    "b = list(range(5))\n",
    "print(b)\n",
    "\n",
    "for i in range(5):\n",
    "    print(i)\n",
    "    \n",
    "print()\n",
    "for i in range(len(square)):\n",
    "    print((square[i]))\n",
    "    \n",
    "for square in square:\n",
    "    print(square)\n"
   ]
  },
  {
   "cell_type": "markdown",
   "metadata": {},
   "source": [
    "### Exercise"
   ]
  },
  {
   "cell_type": "code",
   "execution_count": 5,
   "metadata": {},
   "outputs": [
    {
     "name": "stdout",
     "output_type": "stream",
     "text": [
      "['Green', 'White', 'Black']\n"
     ]
    }
   ],
   "source": [
    "# Write a function program to print a specified list\n",
    "# after removing the 0th, 3rd and 4th items\n",
    "\n",
    "my_list= ['Red', 'Green', 'White', 'Black', 'Pink', 'Yellow']\n",
    "\n",
    "def remove_list(list1):\n",
    "   ##your code here##\n",
    "    list2=[x for (i,x) in enumerate(list1) if i not in (0,4,5)]\n",
    "    print(list2)\n",
    "\n",
    "remove_list(my_list)"
   ]
  },
  {
   "cell_type": "markdown",
   "metadata": {},
   "source": [
    "## Lambda\n",
    "\n",
    "Python supports the creation of anonymous functions (i.e. functions that are not bound to a name) at runtime, using a construct called \"lambda\".\n",
    "\n",
    "Normal python function:\n",
    "```python\n",
    "def f (x):\n",
    "    return x**2\n",
    "\n",
    "f(8)\n",
    "```\n",
    "while for lambda:\n",
    "\n",
    "```python\n",
    "g = lambda x: x**2\n",
    "print(g(8))\n",
    "```\n",
    "Lambda functions are mainly used in combination with the functions filter() and map()."
   ]
  },
  {
   "cell_type": "code",
   "execution_count": 6,
   "metadata": {},
   "outputs": [
    {
     "data": {
      "text/plain": [
       "5"
      ]
     },
     "execution_count": 6,
     "metadata": {},
     "output_type": "execute_result"
    }
   ],
   "source": [
    "f = lambda x, y : x + y\n",
    "\n",
    "f(2,3)"
   ]
  },
  {
   "cell_type": "code",
   "execution_count": 7,
   "metadata": {},
   "outputs": [
    {
     "name": "stdout",
     "output_type": "stream",
     "text": [
      "['It', 'is', 'raining', 'cats', 'and', 'dogs']\n",
      "2\n",
      "2\n",
      "7\n",
      "4\n",
      "3\n",
      "4\n",
      "[2, 2, 7, 4, 3, 4]\n",
      "[2, 6, 8]\n",
      "[4, 9, 25, 36, 49, 64]\n"
     ]
    }
   ],
   "source": [
    "#lambda examples\n",
    "\n",
    "# example 1\n",
    "sentence = 'It is raining cats and dogs'\n",
    "\n",
    "word=sentence.split()\n",
    "print(word)\n",
    "for i in word: \n",
    "    count=len(i)\n",
    "    print(count)\n",
    "\n",
    "g=map(lambda num: len(num), word)\n",
    "print(list(g))\n",
    "\n",
    "# example 2\n",
    "a = [2,3,5,6,7,8]\n",
    "\n",
    "def power(a):\n",
    "    return a**2\n",
    "\n",
    "# filter ()\n",
    "h=filter(lambda num1: num1%2==0, a)\n",
    "print(list(h))\n",
    "\n",
    "# map()\n",
    "h = map(lambda num1: power(num1), a)\n",
    "print(list(h))"
   ]
  },
  {
   "cell_type": "markdown",
   "metadata": {},
   "source": [
    "### List Comprehensions\n",
    "\n",
    "A list comprehension is a compact expression to define a whole set.  It can be used to construct lists in a very natural, easy way, like a mathematician is used to do. \n",
    "\n",
    "The following comprehension says \"For each item in numbers, square it and add it to a new list squares.\"\n",
    "\n",
    "While we could also do this using a for-loop, it's often more convenient to use a list comprehension.\n",
    "\n",
    "```python\n",
    "for element in iterable:\n",
    "     if condition(element): \n",
    "        output.append(expression(element))\n",
    "```\n",
    "\n",
    "The same gets implemented in a simple LC construct in a single line as:\n",
    "```python\n",
    "[ expression(element) for element in iterable if condition(element) ]\n",
    "```\n"
   ]
  },
  {
   "cell_type": "code",
   "execution_count": 8,
   "metadata": {},
   "outputs": [
    {
     "name": "stdout",
     "output_type": "stream",
     "text": [
      "[1, 4, 9, 16, 25, 36, 49, 64]\n",
      "[1, 4, 9, 16, 25, 36, 49, 64]\n"
     ]
    }
   ],
   "source": [
    "# without list comprehension\n",
    "numbers = [1, 2, 3, 4, 5, 6, 7, 8]\n",
    "\n",
    "squares = []\n",
    "for n in numbers:\n",
    "    squares.append(n*n)\n",
    "print(squares)\n",
    "\n",
    "# with list comprehension\n",
    "squares = [n*n for n in numbers]\n",
    "print(squares)"
   ]
  },
  {
   "cell_type": "code",
   "execution_count": 9,
   "metadata": {},
   "outputs": [
    {
     "name": "stdout",
     "output_type": "stream",
     "text": [
      "[1, 4, 9, 16, 25]\n"
     ]
    }
   ],
   "source": [
    "numbers = [1, 2, 3, 4, 5, 6, 7, 8]\n",
    "\n",
    "squaresUnderFive = [n*n for n in numbers if n <= 5]\n",
    "\n",
    "print(squaresUnderFive)"
   ]
  },
  {
   "cell_type": "code",
   "execution_count": 10,
   "metadata": {},
   "outputs": [
    {
     "name": "stdout",
     "output_type": "stream",
     "text": [
      "[32, 50]\n"
     ]
    }
   ],
   "source": [
    "print([s*2 for s in squaresUnderFive if s > 10])"
   ]
  },
  {
   "cell_type": "code",
   "execution_count": 11,
   "metadata": {},
   "outputs": [
    {
     "name": "stdout",
     "output_type": "stream",
     "text": [
      "['BANANA!!!', 'APPLE!!!', 'MANGO!!!']\n"
     ]
    }
   ],
   "source": [
    "# An example of a list comprehension with strings\n",
    "fruits = ['banana', 'apple', 'cherry', 'lime', 'mango']\n",
    "\n",
    "my_list = [s.upper() + '!!!' for s in fruits if 'a' in s]\n",
    "\n",
    "print(my_list)"
   ]
  },
  {
   "cell_type": "markdown",
   "metadata": {},
   "source": [
    "### Exercise\n",
    "Write one line of Python that takes this list a and makes a new list that has only the odd  elements and power it with 3"
   ]
  },
  {
   "cell_type": "code",
   "execution_count": 16,
   "metadata": {},
   "outputs": [
    {
     "name": "stdout",
     "output_type": "stream",
     "text": [
      "[1, 729, 15625, 117649, 531441]\n"
     ]
    }
   ],
   "source": [
    "# Write one line of Python that takes this list a\n",
    "# and makes a new list that has only the odd \n",
    "# elements and power it with 3\n",
    "\n",
    "a = [1, 4, 9, 16, 25, 36, 49, 64, 81, 100]\n",
    "# b = ##your code here##\n",
    "b = [num*num*num for num in a if num % 2 == 1] \n",
    "print(b)"
   ]
  },
  {
   "cell_type": "markdown",
   "metadata": {},
   "source": [
    "### Del\n",
    "\n",
    "The \"del\" operator does deletions. In the simplest case, it can remove the definition of a variable, as if that variable had not been defined. Del can also be used on list elements or slices to delete that part of the list and to delete entries from a dictionary."
   ]
  },
  {
   "cell_type": "code",
   "execution_count": 17,
   "metadata": {},
   "outputs": [
    {
     "name": "stdout",
     "output_type": "stream",
     "text": [
      "['b']\n"
     ]
    }
   ],
   "source": [
    "var = 6\n",
    "del var  # var no more!\n",
    "\n",
    "my_list = ['a', 'b', 'c', 'd']\n",
    "del my_list[0]     ## Delete first element\n",
    "del my_list[-2:]   ## Delete last two elements\n",
    "print(my_list)      ## ['b']"
   ]
  },
  {
   "cell_type": "markdown",
   "metadata": {},
   "source": [
    "## Tuples\n",
    "\n",
    "A tuple is a fixed size grouping of elements, such as an (x, y) co-ordinate. Tuples are like lists, except they are immutable and do not change size (tuples are not strictly immutable since one of the contained elements could be mutable). Tuples are a convenient way to pass around a little logical, fixed size bundle of values. A function that needs to return multiple values can just return a tuple of the values."
   ]
  },
  {
   "cell_type": "code",
   "execution_count": 18,
   "metadata": {},
   "outputs": [
    {
     "name": "stdout",
     "output_type": "stream",
     "text": [
      "<class 'tuple'>\n",
      "4\n",
      "hi\n",
      "('hike', 13)\n"
     ]
    }
   ],
   "source": [
    "tup = (1, 2.3, 'hi', ['hi'])\n",
    "print(type(tup))\n",
    "print((len(tup)))\n",
    "\n",
    "print((tup[2]))\n",
    "\n",
    "#tup[2] = 'bye' # tuple element cannot be changed\n",
    "tup = (1, 2, 'bye')\n",
    "\n",
    "x,y,z = (42, 13, \"hike\")\n",
    "\n",
    "list2 = [1,2,3]\n",
    "\n",
    "print((z, y))"
   ]
  }
 ],
 "metadata": {
  "anaconda-cloud": {},
  "kernelspec": {
   "display_name": "Python 3",
   "language": "python",
   "name": "python3"
  },
  "language_info": {
   "codemirror_mode": {
    "name": "ipython",
    "version": 3
   },
   "file_extension": ".py",
   "mimetype": "text/x-python",
   "name": "python",
   "nbconvert_exporter": "python",
   "pygments_lexer": "ipython3",
   "version": "3.7.4"
  }
 },
 "nbformat": 4,
 "nbformat_minor": 1
}
